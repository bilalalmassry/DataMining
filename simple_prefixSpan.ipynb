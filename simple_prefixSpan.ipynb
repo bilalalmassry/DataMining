{
  "nbformat": 4,
  "nbformat_minor": 0,
  "metadata": {
    "colab": {
      "name": "bilal_mining.ipynb",
      "provenance": [],
      "collapsed_sections": []
    },
    "kernelspec": {
      "name": "python3",
      "display_name": "Python 3"
    },
    "language_info": {
      "name": "python"
    },
    "widgets": {
      "application/vnd.jupyter.widget-state+json": {
        "0ba91f216ae748b48b4d261ffc6adbf9": {
          "model_module": "@jupyter-widgets/controls",
          "model_name": "HBoxModel",
          "state": {
            "_view_name": "HBoxView",
            "_dom_classes": [],
            "_model_name": "HBoxModel",
            "_view_module": "@jupyter-widgets/controls",
            "_model_module_version": "1.5.0",
            "_view_count": null,
            "_view_module_version": "1.5.0",
            "box_style": "",
            "layout": "IPY_MODEL_748ae6596c19400fbeccfe486c96e37d",
            "_model_module": "@jupyter-widgets/controls",
            "children": [
              "IPY_MODEL_c034d41be7d24d4ba189c3aada373cff",
              "IPY_MODEL_0646b91a422b45b0ae066c6b33f20a58"
            ]
          }
        },
        "748ae6596c19400fbeccfe486c96e37d": {
          "model_module": "@jupyter-widgets/base",
          "model_name": "LayoutModel",
          "state": {
            "_view_name": "LayoutView",
            "grid_template_rows": null,
            "right": null,
            "justify_content": null,
            "_view_module": "@jupyter-widgets/base",
            "overflow": null,
            "_model_module_version": "1.2.0",
            "_view_count": null,
            "flex_flow": null,
            "width": null,
            "min_width": null,
            "border": null,
            "align_items": null,
            "bottom": null,
            "_model_module": "@jupyter-widgets/base",
            "top": null,
            "grid_column": null,
            "overflow_y": null,
            "overflow_x": null,
            "grid_auto_flow": null,
            "grid_area": null,
            "grid_template_columns": null,
            "flex": null,
            "_model_name": "LayoutModel",
            "justify_items": null,
            "grid_row": null,
            "max_height": null,
            "align_content": null,
            "visibility": null,
            "align_self": null,
            "height": null,
            "min_height": null,
            "padding": null,
            "grid_auto_rows": null,
            "grid_gap": null,
            "max_width": null,
            "order": null,
            "_view_module_version": "1.2.0",
            "grid_template_areas": null,
            "object_position": null,
            "object_fit": null,
            "grid_auto_columns": null,
            "margin": null,
            "display": null,
            "left": null
          }
        },
        "c034d41be7d24d4ba189c3aada373cff": {
          "model_module": "@jupyter-widgets/controls",
          "model_name": "FloatProgressModel",
          "state": {
            "_view_name": "ProgressView",
            "style": "IPY_MODEL_443cca80f83d41be83d5eb00c28e769d",
            "_dom_classes": [],
            "description": "100%",
            "_model_name": "FloatProgressModel",
            "bar_style": "success",
            "max": 4169,
            "_view_module": "@jupyter-widgets/controls",
            "_model_module_version": "1.5.0",
            "value": 4169,
            "_view_count": null,
            "_view_module_version": "1.5.0",
            "orientation": "horizontal",
            "min": 0,
            "description_tooltip": null,
            "_model_module": "@jupyter-widgets/controls",
            "layout": "IPY_MODEL_3d19c2d243cf4286ab5dc440c56efe9a"
          }
        },
        "0646b91a422b45b0ae066c6b33f20a58": {
          "model_module": "@jupyter-widgets/controls",
          "model_name": "HTMLModel",
          "state": {
            "_view_name": "HTMLView",
            "style": "IPY_MODEL_9f7cec7e53d544e398cb1a3e4acdbe4f",
            "_dom_classes": [],
            "description": "",
            "_model_name": "HTMLModel",
            "placeholder": "​",
            "_view_module": "@jupyter-widgets/controls",
            "_model_module_version": "1.5.0",
            "value": " 4169/4169 [00:19&lt;00:00, 212.32it/s]",
            "_view_count": null,
            "_view_module_version": "1.5.0",
            "description_tooltip": null,
            "_model_module": "@jupyter-widgets/controls",
            "layout": "IPY_MODEL_38e940cd89934c28b012e05a581ad6ae"
          }
        },
        "443cca80f83d41be83d5eb00c28e769d": {
          "model_module": "@jupyter-widgets/controls",
          "model_name": "ProgressStyleModel",
          "state": {
            "_view_name": "StyleView",
            "_model_name": "ProgressStyleModel",
            "description_width": "initial",
            "_view_module": "@jupyter-widgets/base",
            "_model_module_version": "1.5.0",
            "_view_count": null,
            "_view_module_version": "1.2.0",
            "bar_color": null,
            "_model_module": "@jupyter-widgets/controls"
          }
        },
        "3d19c2d243cf4286ab5dc440c56efe9a": {
          "model_module": "@jupyter-widgets/base",
          "model_name": "LayoutModel",
          "state": {
            "_view_name": "LayoutView",
            "grid_template_rows": null,
            "right": null,
            "justify_content": null,
            "_view_module": "@jupyter-widgets/base",
            "overflow": null,
            "_model_module_version": "1.2.0",
            "_view_count": null,
            "flex_flow": null,
            "width": null,
            "min_width": null,
            "border": null,
            "align_items": null,
            "bottom": null,
            "_model_module": "@jupyter-widgets/base",
            "top": null,
            "grid_column": null,
            "overflow_y": null,
            "overflow_x": null,
            "grid_auto_flow": null,
            "grid_area": null,
            "grid_template_columns": null,
            "flex": null,
            "_model_name": "LayoutModel",
            "justify_items": null,
            "grid_row": null,
            "max_height": null,
            "align_content": null,
            "visibility": null,
            "align_self": null,
            "height": null,
            "min_height": null,
            "padding": null,
            "grid_auto_rows": null,
            "grid_gap": null,
            "max_width": null,
            "order": null,
            "_view_module_version": "1.2.0",
            "grid_template_areas": null,
            "object_position": null,
            "object_fit": null,
            "grid_auto_columns": null,
            "margin": null,
            "display": null,
            "left": null
          }
        },
        "9f7cec7e53d544e398cb1a3e4acdbe4f": {
          "model_module": "@jupyter-widgets/controls",
          "model_name": "DescriptionStyleModel",
          "state": {
            "_view_name": "StyleView",
            "_model_name": "DescriptionStyleModel",
            "description_width": "",
            "_view_module": "@jupyter-widgets/base",
            "_model_module_version": "1.5.0",
            "_view_count": null,
            "_view_module_version": "1.2.0",
            "_model_module": "@jupyter-widgets/controls"
          }
        },
        "38e940cd89934c28b012e05a581ad6ae": {
          "model_module": "@jupyter-widgets/base",
          "model_name": "LayoutModel",
          "state": {
            "_view_name": "LayoutView",
            "grid_template_rows": null,
            "right": null,
            "justify_content": null,
            "_view_module": "@jupyter-widgets/base",
            "overflow": null,
            "_model_module_version": "1.2.0",
            "_view_count": null,
            "flex_flow": null,
            "width": null,
            "min_width": null,
            "border": null,
            "align_items": null,
            "bottom": null,
            "_model_module": "@jupyter-widgets/base",
            "top": null,
            "grid_column": null,
            "overflow_y": null,
            "overflow_x": null,
            "grid_auto_flow": null,
            "grid_area": null,
            "grid_template_columns": null,
            "flex": null,
            "_model_name": "LayoutModel",
            "justify_items": null,
            "grid_row": null,
            "max_height": null,
            "align_content": null,
            "visibility": null,
            "align_self": null,
            "height": null,
            "min_height": null,
            "padding": null,
            "grid_auto_rows": null,
            "grid_gap": null,
            "max_width": null,
            "order": null,
            "_view_module_version": "1.2.0",
            "grid_template_areas": null,
            "object_position": null,
            "object_fit": null,
            "grid_auto_columns": null,
            "margin": null,
            "display": null,
            "left": null
          }
        }
      }
    }
  },
  "cells": [
    {
      "cell_type": "code",
      "metadata": {
        "id": "KzuWU-UHjLsJ"
      },
      "source": [
        "import pandas as pd\n",
        "import sys\n",
        "import copy\n",
        "from tqdm import tqdm_notebook"
      ],
      "execution_count": null,
      "outputs": []
    },
    {
      "cell_type": "code",
      "metadata": {
        "id": "qv2dGyEYjLsR"
      },
      "source": [
        "data = pd.read_csv('/content/drive/MyDrive/dataset/data mining homework/paths_finished.tsv', sep = '\\t')\n",
        "data = data['path']"
      ],
      "execution_count": null,
      "outputs": []
    },
    {
      "cell_type": "code",
      "metadata": {
        "colab": {
          "base_uri": "https://localhost:8080/"
        },
        "id": "zDRCzebMjmJu",
        "outputId": "1ed43d4d-3c74-44c8-e98b-a554b20ccb8a"
      },
      "source": [
        "data.head()"
      ],
      "execution_count": null,
      "outputs": [
        {
          "output_type": "execute_result",
          "data": {
            "text/plain": [
              "0    14th_century;15th_century;16th_century;Pacific...\n",
              "1    14th_century;Europe;Africa;Atlantic_slave_trad...\n",
              "2    14th_century;Niger;Nigeria;British_Empire;Slav...\n",
              "3       14th_century;Renaissance;Ancient_Greece;Greece\n",
              "4    14th_century;Italy;Roman_Catholic_Church;HIV;R...\n",
              "Name: path, dtype: object"
            ]
          },
          "metadata": {
            "tags": []
          },
          "execution_count": 7
        }
      ]
    },
    {
      "cell_type": "code",
      "metadata": {
        "tags": [],
        "id": "2B-E50bKjLsU",
        "colab": {
          "base_uri": "https://localhost:8080/"
        },
        "outputId": "5e60f485-9262-4b65-a0a0-c4d592e568c1"
      },
      "source": [
        "queue = set()\n",
        "copy = {}\n",
        "arr = []\n",
        "for path in data:\n",
        "  items = path.split(';')\n",
        "  while '<' in items:\n",
        "    items.remove('<')\n",
        "  arr.append(items)\n",
        "len(arr)"
      ],
      "execution_count": null,
      "outputs": [
        {
          "output_type": "execute_result",
          "data": {
            "text/plain": [
              "51318"
            ]
          },
          "metadata": {
            "tags": []
          },
          "execution_count": 9
        }
      ]
    },
    {
      "cell_type": "code",
      "metadata": {
        "id": "rIGMCok_jLsX"
      },
      "source": [
        "queue = set()\n",
        "for i in arr:\n",
        "  for j in i:\n",
        "    copy[j] = copy.get(j,0) + 1 \n",
        "    queue.add(tuple([j]))"
      ],
      "execution_count": null,
      "outputs": []
    },
    {
      "cell_type": "code",
      "metadata": {
        "id": "4JNepWqkpjQc"
      },
      "source": [
        "queue = list (queue)"
      ],
      "execution_count": null,
      "outputs": []
    },
    {
      "cell_type": "code",
      "metadata": {
        "colab": {
          "base_uri": "https://localhost:8080/"
        },
        "id": "gfK7l4Wlqhan",
        "outputId": "706850a0-1b33-4b21-c81b-3cc8398caf4d"
      },
      "source": [
        "t = tuple ([1,2])\n",
        "for i in t:\n",
        "  print(i)"
      ],
      "execution_count": null,
      "outputs": [
        {
          "output_type": "stream",
          "text": [
            "1\n",
            "2\n"
          ],
          "name": "stdout"
        }
      ]
    },
    {
      "cell_type": "code",
      "metadata": {
        "colab": {
          "base_uri": "https://localhost:8080/",
          "height": 136,
          "referenced_widgets": [
            "0ba91f216ae748b48b4d261ffc6adbf9",
            "748ae6596c19400fbeccfe486c96e37d",
            "c034d41be7d24d4ba189c3aada373cff",
            "0646b91a422b45b0ae066c6b33f20a58",
            "443cca80f83d41be83d5eb00c28e769d",
            "3d19c2d243cf4286ab5dc440c56efe9a",
            "9f7cec7e53d544e398cb1a3e4acdbe4f",
            "38e940cd89934c28b012e05a581ad6ae"
          ]
        },
        "id": "nrGcdSnWn-YC",
        "outputId": "cde0870a-9a83-4555-98c4-c7ed7085ef10"
      },
      "source": [
        "ans = {}\n",
        "for i in tqdm_notebook(queue):\n",
        "  for record in arr[:100]:\n",
        "    new_data = copy.copy(record)\n",
        "    ok = True\n",
        "    for part in i:\n",
        "      try:\n",
        "        new_index = new_data.index(part)\n",
        "        new_data = new_data[new_index + 1:]\n",
        "      except ValueError:\n",
        "        ok = False\n",
        "        break\n",
        "    if ok:\n",
        "      ans[i] = ans.get(i,0) + 1\n",
        "\n",
        "\n",
        "items = {key:value for key,value in ans.items() if value > 10}"
      ],
      "execution_count": null,
      "outputs": [
        {
          "output_type": "stream",
          "text": [
            "/usr/local/lib/python3.7/dist-packages/ipykernel_launcher.py:2: TqdmDeprecationWarning: This function will be removed in tqdm==5.0.0\n",
            "Please use `tqdm.notebook.tqdm` instead of `tqdm.tqdm_notebook`\n",
            "  \n"
          ],
          "name": "stderr"
        },
        {
          "output_type": "display_data",
          "data": {
            "application/vnd.jupyter.widget-view+json": {
              "model_id": "0ba91f216ae748b48b4d261ffc6adbf9",
              "version_minor": 0,
              "version_major": 2
            },
            "text/plain": [
              "HBox(children=(FloatProgress(value=0.0, max=4169.0), HTML(value='')))"
            ]
          },
          "metadata": {
            "tags": []
          }
        },
        {
          "output_type": "stream",
          "text": [
            "\n"
          ],
          "name": "stdout"
        }
      ]
    },
    {
      "cell_type": "code",
      "metadata": {
        "colab": {
          "base_uri": "https://localhost:8080/"
        },
        "id": "_OgM5YwLshYl",
        "outputId": "087091ae-a78b-4cdb-99e8-0a43a0c52a21"
      },
      "source": [
        "items"
      ],
      "execution_count": null,
      "outputs": [
        {
          "output_type": "execute_result",
          "data": {
            "text/plain": [
              "{('14th_century',): 42,\n",
              " ('2004_Atlantic_hurricane_season',): 13,\n",
              " ('2005_Atlantic_hurricane_season',): 17,\n",
              " ('Acceleration',): 21,\n",
              " ('Light',): 13,\n",
              " ('Physics',): 14,\n",
              " ('Rainbow',): 27,\n",
              " ('Time',): 16,\n",
              " ('United_States',): 12}"
            ]
          },
          "metadata": {
            "tags": []
          },
          "execution_count": 45
        }
      ]
    },
    {
      "cell_type": "code",
      "metadata": {
        "id": "OIqVI0uor0s_"
      },
      "source": [
        "new_patterns  = set()\n",
        "leveltwoans = {}\n",
        "for item in items:\n",
        "  for record in arr[:100]:\n",
        "    ok = True\n",
        "    new_data = copy.copy(record)\n",
        "    for sub_item in item:\n",
        "      try:\n",
        "        new_index = new_data.index(sub_item)\n",
        "        new_data = new_data[new_index + 1:]\n",
        "      except ValueError:\n",
        "        ok = False\n",
        "        break\n",
        "    if ok:\n",
        "      new_data = set(new_data)\n",
        "      for i in new_data:\n",
        "        new_pt = item + (i,)\n",
        "        leveltwoans[new_pt] = leveltwoans.get(new_pt,0) + 1\n",
        "\n",
        "leveltwoans = {key:val for key,val in leveltwoans.items() if val > 10}\n",
        "\n"
      ],
      "execution_count": null,
      "outputs": []
    },
    {
      "cell_type": "code",
      "metadata": {
        "id": "Ey1vry95t4F7"
      },
      "source": [
        "items.update(leveltwoans)"
      ],
      "execution_count": null,
      "outputs": []
    },
    {
      "cell_type": "code",
      "metadata": {
        "colab": {
          "base_uri": "https://localhost:8080/"
        },
        "id": "wtC8Fa2quPFv",
        "outputId": "5e3e8a06-5588-47d2-b018-3cf5e7102ae9"
      },
      "source": [
        "items"
      ],
      "execution_count": null,
      "outputs": [
        {
          "output_type": "execute_result",
          "data": {
            "text/plain": [
              "{('14th_century',): 42,\n",
              " ('14th_century', 'Rainbow'): 27,\n",
              " ('14th_century', 'Time'): 15,\n",
              " ('2004_Atlantic_hurricane_season',): 13,\n",
              " ('2005_Atlantic_hurricane_season',): 17,\n",
              " ('Acceleration',): 21,\n",
              " ('Light',): 13,\n",
              " ('Physics',): 14,\n",
              " ('Rainbow',): 27,\n",
              " ('Time',): 16,\n",
              " ('Time', 'Rainbow'): 15,\n",
              " ('United_States',): 12}"
            ]
          },
          "metadata": {
            "tags": []
          },
          "execution_count": 55
        }
      ]
    },
    {
      "cell_type": "code",
      "metadata": {
        "colab": {
          "base_uri": "https://localhost:8080/"
        },
        "id": "XojQ9w68tTgK",
        "outputId": "d7afddda-683e-497a-aed5-7f458bf61673"
      },
      "source": [
        "leveltwoans"
      ],
      "execution_count": null,
      "outputs": [
        {
          "output_type": "execute_result",
          "data": {
            "text/plain": [
              "{('14th_century', 'Rainbow'): 27,\n",
              " ('14th_century', 'Time'): 15,\n",
              " ('Time', 'Rainbow'): 15}"
            ]
          },
          "metadata": {
            "tags": []
          },
          "execution_count": 50
        }
      ]
    },
    {
      "cell_type": "code",
      "metadata": {
        "tags": [],
        "id": "EMMBYWU9jLsY"
      },
      "source": [
        "while queue:\n",
        "  current = queue.pop()\n",
        "  if current:\n",
        "    for path in arr:\n",
        "      founded = False\n",
        "      for path_item_idx in range(len(path)):\n",
        "        if founded:\n",
        "          queue.add(current + ( path[path_item_idx], ))\n",
        "          copy[current + ( path[path_item_idx], )] = 1\n",
        "\n",
        "\n",
        "        if tuple(path[path_item_idx:len(current)]) == current:\n",
        "          copy[current] = copy[current] + 1 if current in copy else 1\n",
        "          founded = True\n"
      ],
      "execution_count": null,
      "outputs": []
    },
    {
      "cell_type": "code",
      "metadata": {
        "tags": [],
        "id": "U--9UJOdjLsZ",
        "outputId": "334a713b-922e-404f-e919-3b8bb2b2eafb"
      },
      "source": [
        "for i in copy:\n",
        "    if isinstance(i, tuple):\n",
        "        if len(i) == 12: # when 12 level only\n",
        "            print((i))"
      ],
      "execution_count": null,
      "outputs": [
        {
          "output_type": "stream",
          "text": [
            "('Acceleration', 'Physics', 'Special_relativity', 'Energy', 'Star', 'Milky_Way', 'Spain', 'Mediterranean_Sea', 'Sea', 'Irish_Sea', 'Dublin', 'Physics')\n",
            "('Acceleration', 'Physics', 'Special_relativity', 'Energy', 'Star', 'Milky_Way', 'Spain', 'Mediterranean_Sea', 'Sea', 'Irish_Sea', 'Dublin', 'Special_relativity')\n",
            "('Acceleration', 'Physics', 'Special_relativity', 'Energy', 'Star', 'Milky_Way', 'Spain', 'Mediterranean_Sea', 'Sea', 'Irish_Sea', 'Dublin', 'Energy')\n",
            "('Acceleration', 'Physics', 'Special_relativity', 'Energy', 'Star', 'Milky_Way', 'Spain', 'Mediterranean_Sea', 'Sea', 'Irish_Sea', 'Dublin', 'Star')\n",
            "('Acceleration', 'Physics', 'Special_relativity', 'Energy', 'Star', 'Milky_Way', 'Spain', 'Mediterranean_Sea', 'Sea', 'Irish_Sea', 'Dublin', 'Milky_Way')\n",
            "('Acceleration', 'Physics', 'Special_relativity', 'Energy', 'Star', 'Milky_Way', 'Spain', 'Mediterranean_Sea', 'Sea', 'Irish_Sea', 'Dublin', 'Spain')\n",
            "('Acceleration', 'Physics', 'Special_relativity', 'Energy', 'Star', 'Milky_Way', 'Spain', 'Mediterranean_Sea', 'Sea', 'Irish_Sea', 'Dublin', 'Mediterranean_Sea')\n",
            "('Acceleration', 'Physics', 'Special_relativity', 'Energy', 'Star', 'Milky_Way', 'Spain', 'Mediterranean_Sea', 'Sea', 'Irish_Sea', 'Dublin', 'Sea')\n",
            "('Acceleration', 'Physics', 'Special_relativity', 'Energy', 'Star', 'Milky_Way', 'Spain', 'Mediterranean_Sea', 'Sea', 'Irish_Sea', 'Dublin', 'Irish_Sea')\n",
            "('Acceleration', 'Physics', 'Special_relativity', 'Energy', 'Star', 'Milky_Way', 'Spain', 'Mediterranean_Sea', 'Sea', 'Irish_Sea', 'Dublin', 'Dublin')\n",
            "('Acceleration', 'Physics', 'Special_relativity', 'Energy', 'Star', 'Milky_Way', 'Spain', 'Mediterranean_Sea', 'Sea', 'Irish_Sea', 'Dublin', 'Europe')\n",
            "('Acceleration', 'Physics', 'Special_relativity', 'Energy', 'Star', 'Milky_Way', 'Spain', 'Mediterranean_Sea', 'Sea', 'Irish_Sea', 'Dublin', 'Iceland')\n",
            "('Acceleration', 'Physics', 'Special_relativity', 'Energy', 'Star', 'Milky_Way', 'Spain', 'Mediterranean_Sea', 'Sea', 'Irish_Sea', 'Dublin', 'Surtsey')\n",
            "('Acceleration', 'Light', 'Color', 'Light', 'Telescope', 'California', 'Special_relativity', 'Physics', 'Technology', 'Computer', 'Internet', 'Light')\n",
            "('Acceleration', 'Light', 'Color', 'Light', 'Telescope', 'California', 'Special_relativity', 'Physics', 'Technology', 'Computer', 'Internet', 'Color')\n",
            "('Acceleration', 'Light', 'Color', 'Light', 'Telescope', 'California', 'Special_relativity', 'Physics', 'Technology', 'Computer', 'Internet', 'Telescope')\n",
            "('Acceleration', 'Light', 'Color', 'Light', 'Telescope', 'California', 'Special_relativity', 'Physics', 'Technology', 'Computer', 'Internet', 'California')\n",
            "('Acceleration', 'Light', 'Color', 'Light', 'Telescope', 'California', 'Special_relativity', 'Physics', 'Technology', 'Computer', 'Internet', 'Special_relativity')\n",
            "('Acceleration', 'Light', 'Color', 'Light', 'Telescope', 'California', 'Special_relativity', 'Physics', 'Technology', 'Computer', 'Internet', 'Physics')\n",
            "('Acceleration', 'Light', 'Color', 'Light', 'Telescope', 'California', 'Special_relativity', 'Physics', 'Technology', 'Computer', 'Internet', 'Technology')\n",
            "('Acceleration', 'Light', 'Color', 'Light', 'Telescope', 'California', 'Special_relativity', 'Physics', 'Technology', 'Computer', 'Internet', 'Computer')\n",
            "('Acceleration', 'Light', 'Color', 'Light', 'Telescope', 'California', 'Special_relativity', 'Physics', 'Technology', 'Computer', 'Internet', 'Internet')\n",
            "('Acceleration', 'Light', 'Color', 'Light', 'Telescope', 'California', 'Special_relativity', 'Physics', 'Technology', 'Computer', 'Internet', 'World_Wide_Web')\n",
            "('Acceleration', 'Light', 'Color', 'Light', 'Telescope', 'California', 'Special_relativity', 'Physics', 'Technology', 'Computer', 'Internet', 'Mozilla_Firefox')\n"
          ],
          "name": "stdout"
        }
      ]
    },
    {
      "cell_type": "code",
      "metadata": {
        "id": "a-RCnubejLsa"
      },
      "source": [
        ""
      ],
      "execution_count": null,
      "outputs": []
    },
    {
      "cell_type": "code",
      "metadata": {
        "id": "rkrZYskljLsa",
        "outputId": "ea7a4c16-f701-47ad-8327-e27f5ac97667"
      },
      "source": [
        "len(copy)"
      ],
      "execution_count": null,
      "outputs": [
        {
          "output_type": "execute_result",
          "data": {
            "text/plain": [
              "4916"
            ]
          },
          "metadata": {
            "tags": []
          },
          "execution_count": 116
        }
      ]
    }
  ]
}